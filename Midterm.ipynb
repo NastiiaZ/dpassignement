{
  "nbformat": 4,
  "nbformat_minor": 0,
  "metadata": {
    "colab": {
      "provenance": [],
      "collapsed_sections": [],
      "authorship_tag": "ABX9TyNPlFYpP2V463nf7NXwhje5",
      "include_colab_link": true
    },
    "kernelspec": {
      "name": "python3",
      "display_name": "Python 3"
    },
    "language_info": {
      "name": "python"
    }
  },
  "cells": [
    {
      "cell_type": "markdown",
      "metadata": {
        "id": "view-in-github",
        "colab_type": "text"
      },
      "source": [
        "<a href=\"https://colab.research.google.com/github/NastiiaZ/dpassignement/blob/main/Midterm.ipynb\" target=\"_parent\"><img src=\"https://colab.research.google.com/assets/colab-badge.svg\" alt=\"Open In Colab\"/></a>"
      ]
    },
    {
      "cell_type": "code",
      "execution_count": 3,
      "metadata": {
        "id": "RWIUDTAqRTN7"
      },
      "outputs": [],
      "source": [
        "\n",
        "from sqlalchemy import create_engine\n",
        "my_conn = create_engine(\"sqlite:////content/my_db.db\")"
      ]
    },
    {
      "cell_type": "code",
      "source": [
        "[] # creating Vehicle table\n",
        "from sqlalchemy.exc import SQLAlchemyError\n",
        "try:\n",
        "     my_conn.execute('''\n",
        "      CREATE TABLE IF NOT EXISTS vehicle (vehicle_id integer primary key,\n",
        "      reg_id text,\n",
        "      manufacturer text,\n",
        "      model text,\n",
        "      color text,\n",
        "      current_odometer integer,\n",
        "      passng_capacity integer\n",
        "      );''')\n",
        "\n",
        "     print(\"Vehicle Table created successfully\")\n",
        "except SQLAlchemyError as e:\n",
        "   #print (e)\n",
        "   error=str(e._dict_['orig'])\n",
        "   print(error)"
      ],
      "metadata": {
        "colab": {
          "base_uri": "https://localhost:8080/"
        },
        "id": "t-n69_u4eZnx",
        "outputId": "91c2aa39-2655-4cd3-a2f1-e7e35427b88d"
      },
      "execution_count": 5,
      "outputs": [
        {
          "output_type": "stream",
          "name": "stdout",
          "text": [
            "Vehicle Table created successfully\n"
          ]
        }
      ]
    },
    {
      "cell_type": "code",
      "source": [
        "[] #add records to vehicle table\n",
        "r_set=my_conn.execute('''INSERT INTO `vehicle`\n",
        "(`vehicle_id`, `reg_id`, `manufacturer`, `model`, `color`, `current_odometer`, `passng_capacity`) VALUES\n",
        "( 1, '2001 ABC', 'Volvo', 'XC90', 'silver', 4, 4),\n",
        "( 2, '2006 AFD', 'Kia', 'K7', 'black', 2, 4);''')"
      ],
      "metadata": {
        "id": "dMCCjAjzeYUu"
      },
      "execution_count": 12,
      "outputs": []
    },
    {
      "cell_type": "code",
      "source": [
        "[] # creating Driver table\n",
        "from sqlalchemy.exc import SQLAlchemyError\n",
        "try:\n",
        "     my_conn.execute('''\n",
        "      CREATE TABLE IF NOT EXISTS driver (driver_id integer primary key,\n",
        "      name_ text,\n",
        "      license_num text,\n",
        "      language text,\n",
        "      clearance_lvl integer\n",
        "      );''')\n",
        "\n",
        "     print(\"Driver Table created successfully\")\n",
        "except SQLAlchemyError as e:\n",
        "   #print (e)\n",
        "   error=str(e._dict_['orig'])\n",
        "   print(error)"
      ],
      "metadata": {
        "colab": {
          "base_uri": "https://localhost:8080/"
        },
        "id": "TEONBb4qh4sp",
        "outputId": "b5677390-5bf8-47fc-e737-2ada1cbe9d19"
      },
      "execution_count": 29,
      "outputs": [
        {
          "output_type": "stream",
          "name": "stdout",
          "text": [
            "Driver Table created successfully\n"
          ]
        }
      ]
    },
    {
      "cell_type": "code",
      "source": [
        "#add records to Driver table\n",
        "r_set=my_conn.execute('''INSERT INTO `driver`\n",
        "(`driver_id`, `name_`, `license_num`, `language`, `clearance_lvl`) VALUES\n",
        "( 1, 'JinKim', 'BAKL', 'korean', 4),\n",
        "( 2, 'Andrew', 'HJOP', 'english', 2);''') "
      ],
      "metadata": {
        "id": "p0HQHhZymCQc"
      },
      "execution_count": null,
      "outputs": []
    }
  ]
}