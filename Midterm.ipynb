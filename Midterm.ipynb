{
  "cells": [
    {
      "cell_type": "markdown",
      "metadata": {
        "id": "view-in-github",
        "colab_type": "text"
      },
      "source": [
        "<a href=\"https://colab.research.google.com/github/NastiiaZ/dpassignement/blob/main/Midterm.ipynb\" target=\"_parent\"><img src=\"https://colab.research.google.com/assets/colab-badge.svg\" alt=\"Open In Colab\"/></a>"
      ]
    },
    {
      "cell_type": "code",
      "execution_count": null,
      "metadata": {
        "id": "RWIUDTAqRTN7"
      },
      "outputs": [],
      "source": [
        "\n",
        "from sqlalchemy import create_engine\n",
        "my_conn = create_engine(\"sqlite:////content/my_db.db\")"
      ]
    },
    {
      "cell_type": "code",
      "execution_count": null,
      "metadata": {
        "colab": {
          "base_uri": "https://localhost:8080/"
        },
        "id": "t-n69_u4eZnx",
        "outputId": "91c2aa39-2655-4cd3-a2f1-e7e35427b88d"
      },
      "outputs": [
        {
          "name": "stdout",
          "output_type": "stream",
          "text": [
            "Vehicle Table created successfully\n"
          ]
        }
      ],
      "source": [
        "[] # creating Vehicle table\n",
        "from sqlalchemy.exc import SQLAlchemyError\n",
        "try:\n",
        "     my_conn.execute('''\n",
        "      CREATE TABLE IF NOT EXISTS vehicle (vehicle_id integer primary key,\n",
        "      reg_id text,\n",
        "      manufacturer text,\n",
        "      model text,\n",
        "      color text,\n",
        "      current_odometer integer,\n",
        "      passng_capacity integer\n",
        "      );''')\n",
        "\n",
        "     print(\"Vehicle Table created successfully\")\n",
        "except SQLAlchemyError as e:\n",
        "   #print (e)\n",
        "   error=str(e._dict_['orig'])\n",
        "   print(error)"
      ]
    },
    {
      "cell_type": "code",
      "execution_count": null,
      "metadata": {
        "id": "dMCCjAjzeYUu"
      },
      "outputs": [],
      "source": [
        "[] #add records to vehicle table\n",
        "r_set=my_conn.execute('''INSERT INTO `vehicle`\n",
        "(`vehicle_id`, `reg_id`, `manufacturer`, `model`, `color`, `current_odometer`, `passng_capacity`) VALUES\n",
        "( 1, '2001 ABC', 'Volvo', 'XC90', 'silver', 4, 4),\n",
        "( 2, '2006 AFD', 'Kia', 'K7', 'black', 2, 4);''')"
      ]
    },
    {
      "cell_type": "code",
      "execution_count": 61,
      "metadata": {
        "colab": {
          "base_uri": "https://localhost:8080/"
        },
        "id": "TEONBb4qh4sp",
        "outputId": "4793edae-b76b-451d-92d9-60f3325addbf"
      },
      "outputs": [
        {
          "output_type": "stream",
          "name": "stdout",
          "text": [
            "driver Table created successfully\n"
          ]
        }
      ],
      "source": [
        "[] # creating driver table\n",
        "from sqlalchemy.exc import SQLAlchemyError\n",
        "try:\n",
        "     my_conn.execute('''\n",
        "      CREATE TABLE IF NOT EXISTS driver (driver_id integer primary key,\n",
        "      nam text,\n",
        "      lic_number text,\n",
        "      language text,\n",
        "      clear_num integer\n",
        "      );''')\n",
        "\n",
        "     print(\"driver Table created successfully\")\n",
        "except SQLAlchemyError as e:\n",
        "   #print (e)\n",
        "   error=str(e._dict_['orig'])\n",
        "   print(error)"
      ]
    },
    {
      "cell_type": "code",
      "source": [
        "[] # creating Game_Official table\n",
        "from sqlalchemy.exc import SQLAlchemyError\n",
        "try:\n",
        "     my_conn.execute('''\n",
        "      CREATE TABLE IF NOT EXISTS Game_Official (Game_Official_id integer primary key,\n",
        "      city_id integer,\n",
        "      cityname text,\n",
        "      role text,\n",
        "      language text\n",
        "      );''')\n",
        "\n",
        "     print(\"Game_Official Table created successfully\")\n",
        "except SQLAlchemyError as e:\n",
        "   #print (e)\n",
        "   error=str(e._dict_['orig'])\n",
        "   print(error)"
      ],
      "metadata": {
        "colab": {
          "base_uri": "https://localhost:8080/"
        },
        "id": "FmrOFb2kr-SP",
        "outputId": "77e42690-9f2b-4c55-900d-b675a061f10f"
      },
      "execution_count": 41,
      "outputs": [
        {
          "output_type": "stream",
          "name": "stdout",
          "text": [
            "Game_Official Table created successfully\n"
          ]
        }
      ]
    },
    {
      "cell_type": "code",
      "source": [
        "[] #add records to Game_Official Table\n",
        "r_set=my_conn.execute('''INSERT INTO `Game_Official`\n",
        "(`Game_Official_id`, `city_id`, `cityname`, `role`, `language` ) VALUES\n",
        "( 1, 78, 'Tokyo', 'athelete', 'japanese'),\n",
        "( 2, 53, 'London', 'coach', 'english');''')"
      ],
      "metadata": {
        "id": "wHJgHjZiskYg"
      },
      "execution_count": 42,
      "outputs": []
    },
    {
      "cell_type": "code",
      "source": [
        "[] # creating Country table\n",
        "from sqlalchemy.exc import SQLAlchemyError\n",
        "try:\n",
        "     my_conn.execute('''\n",
        "      CREATE TABLE IF NOT EXISTS Country (Country_id integer primary key,\n",
        "      name text,\n",
        "      language text\n",
        "      );''')\n",
        "\n",
        "     print(\"Country Table created successfully\")\n",
        "except SQLAlchemyError as e:\n",
        "   #print (e)\n",
        "   error=str(e._dict_['orig'])\n",
        "   print(error)"
      ],
      "metadata": {
        "colab": {
          "base_uri": "https://localhost:8080/"
        },
        "id": "DSaHF8-vuRA2",
        "outputId": "1501ede3-72cc-4111-d074-98f9f8dc3b69"
      },
      "execution_count": 48,
      "outputs": [
        {
          "output_type": "stream",
          "name": "stdout",
          "text": [
            "Country Table created successfully\n"
          ]
        }
      ]
    },
    {
      "cell_type": "code",
      "source": [
        "[] #add records to Country Table\n",
        "r_set=my_conn.execute('''INSERT INTO `Country`\n",
        "(`Country_id`, `name`, `language` ) VALUES\n",
        "( 1, 'Japan', 'japanese'),\n",
        "( 2, 'UK', 'english');''')"
      ],
      "metadata": {
        "id": "g6gTbOLoum7N"
      },
      "execution_count": 49,
      "outputs": []
    },
    {
      "cell_type": "code",
      "source": [
        "[] # creating trip table\n",
        "from sqlalchemy.exc import SQLAlchemyError\n",
        "try:\n",
        "     my_conn.execute('''\n",
        "      CREATE TABLE IF NOT EXISTS trip (trip_id integer primary key,\n",
        "      bookingref text,\n",
        "      tripstart time,\n",
        "      tripfinish time\n",
        "      );''')\n",
        "\n",
        "     print(\"trip created successfully\")\n",
        "except SQLAlchemyError as e:\n",
        "   #print (e)\n",
        "   error=str(e._dict_['orig'])\n",
        "   print(error)"
      ],
      "metadata": {
        "colab": {
          "base_uri": "https://localhost:8080/"
        },
        "id": "XJ14bIMSxNcV",
        "outputId": "aa3e5517-ef9a-4e2f-eae4-2233654fdc58"
      },
      "execution_count": 64,
      "outputs": [
        {
          "output_type": "stream",
          "name": "stdout",
          "text": [
            "trip created successfully\n"
          ]
        }
      ]
    },
    {
      "cell_type": "code",
      "source": [
        "[] #add records to trip Table\n",
        "r_set=my_conn.execute('''INSERT INTO `trip`\n",
        "(`trip_id`, `bookingref`, `tripstart`, `tripfinish`) VALUES\n",
        "( 1, 'GFY789', 7, 9),\n",
        "( 2, 'GHR543', 8, 11);''')"
      ],
      "metadata": {
        "id": "ez3DSCxvxfJH"
      },
      "execution_count": 66,
      "outputs": []
    },
    {
      "cell_type": "code",
      "source": [
        "[] # creating pickup table\n",
        "from sqlalchemy.exc import SQLAlchemyError\n",
        "try:\n",
        "     my_conn.execute('''\n",
        "      CREATE TABLE IF NOT EXISTS pickup (pickup_id integer primary key,\n",
        "      adresat text,\n",
        "      city text,\n",
        "      loctype text\n",
        "      );''')\n",
        "\n",
        "     print(\"pickup Table created successfully\")\n",
        "except SQLAlchemyError as e:\n",
        "   #print (e)\n",
        "   error=str(e._dict_['orig'])\n",
        "   print(error)"
      ],
      "metadata": {
        "colab": {
          "base_uri": "https://localhost:8080/"
        },
        "id": "gBX1oXw2zp1l",
        "outputId": "226b6af8-3350-4903-9a6b-204fa79bcc9f"
      },
      "execution_count": 105,
      "outputs": [
        {
          "output_type": "stream",
          "name": "stdout",
          "text": [
            "pickup Table created successfully\n"
          ]
        }
      ]
    },
    {
      "cell_type": "code",
      "source": [
        "[] #add records to trip Table\n",
        "r_set=my_conn.execute('''INSERT INTO `pickup`\n",
        "(`pickup_id`, `adresat`, `city`, `loctype`) VALUES\n",
        "( 1, 'StRane', 'Busan', 'hotel'),\n",
        "( 2, 'StShine', 'Seoul', 'motel');''')"
      ],
      "metadata": {
        "id": "PJ32sbJw6OCB"
      },
      "execution_count": null,
      "outputs": []
    },
    {
      "cell_type": "code",
      "source": [
        "[] # creating dropoff table\n",
        "from sqlalchemy.exc import SQLAlchemyError\n",
        "try:\n",
        "     my_conn.execute('''\n",
        "      CREATE TABLE IF NOT EXISTS dropoff (dropoff_id integer primary key,\n",
        "      adresatt text,\n",
        "      cityt text,\n",
        "      loctypet text\n",
        "      );''')\n",
        "\n",
        "     print(\"dropoff Table created successfully\")\n",
        "except SQLAlchemyError as e:\n",
        "   #print (e)\n",
        "   error=str(e._dict_['orig'])\n",
        "   print(error)"
      ],
      "metadata": {
        "colab": {
          "base_uri": "https://localhost:8080/"
        },
        "id": "bTVIe2co6RvQ",
        "outputId": "3287af91-8c6f-4620-d983-dfa36aa8124a"
      },
      "execution_count": 107,
      "outputs": [
        {
          "output_type": "stream",
          "name": "stdout",
          "text": [
            "dropoff Table created successfully\n"
          ]
        }
      ]
    },
    {
      "cell_type": "code",
      "source": [
        "[] #add records to trip Table\n",
        "r_set=my_conn.execute('''INSERT INTO `dropoff`\n",
        "(`dropoff_id`, `adresatt`, `cityt`, `loctypet`) VALUES\n",
        "( 1, 'StRane', 'Busan', 'hotel'),\n",
        "( 2, 'StShine', 'Seoul', 'motel');''')"
      ],
      "metadata": {
        "id": "mZLNNYJ9-11b"
      },
      "execution_count": null,
      "outputs": []
    }
  ],
  "metadata": {
    "colab": {
      "provenance": [],
      "authorship_tag": "ABX9TyPBjwhxyMVFVfMuO9TMNuju",
      "include_colab_link": true
    },
    "kernelspec": {
      "display_name": "Python 3",
      "name": "python3"
    },
    "language_info": {
      "name": "python"
    }
  },
  "nbformat": 4,
  "nbformat_minor": 0
}